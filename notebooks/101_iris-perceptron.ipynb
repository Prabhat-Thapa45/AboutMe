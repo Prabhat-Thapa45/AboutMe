{
  "cells": [
    {
      "cell_type": "markdown",
      "id": "b3cec5a7-3bce-4512-b7d2-ccb98e2a3faa",
      "metadata": {
        "id": "b3cec5a7-3bce-4512-b7d2-ccb98e2a3faa"
      },
      "source": [
        "<a target=\"_blank\" href=\"https://colab.research.google.com/github/JLDC/Data-Science-Fundamentals/blob/master/notebooks/101_iris-perceptron.ipynb\">\n",
        "    <img src=\"https://i.ibb.co/2P3SLwK/colab.png\"  style=\"padding-bottom:5px;\" />Open this notebook in Google Colab\n",
        "</a>\n",
        "\n",
        "___"
      ]
    },
    {
      "cell_type": "markdown",
      "id": "ae8c7041-2017-45ea-a91f-51238ef71b96",
      "metadata": {
        "id": "ae8c7041-2017-45ea-a91f-51238ef71b96"
      },
      "source": [
        "# Perceptron Learning for Iris Data\n",
        "___\n",
        "\n",
        "In this notebook, we will implement the same learning algorithm for the **iris** dataset that you have implemented in Excel during the first session. It is important to note that the way we implement the algorithm in this notebook is neither efficient, nor is it the way you would truly implement a neural network in practice (indeed, a perceptron model is a special case of a neural network). This example is set up to be pedagogical, such that you better understand the mechanism underlying the perceptron.\n",
        "\n",
        "### 🧑‍💻 <font color=green>**Your Task**</font>\n",
        "\n",
        "Please go through the below code and solve the <font color=green>**Questions**</font> contained in the notebook (indicated with a green heading). You will also need the Excel implementation of the iris learning engine from our first class. You find a clean Excel solution on Canvas under Files > Data. It may also help to look again at the instructions for the Excel task in the slides for the first class.\n",
        "\n",
        "**It's probably most productive if you work in small groups.** If you get stuck, please let us know and we drop by. We are there to support your learning experience. Sitting on your desk in the status stuck for a longer time is not very productive.\n",
        "\n",
        "Please note your answers to the questions on a (digital) piece of paper or directly code/write it into code/markdown cells below (depending whether it is a thinking or coding question). We will discuss the solutions in class. To start the discussion, we may randomly call some of you to share your thoughts and solution ideas :-)\n"
      ]
    },
    {
      "cell_type": "markdown",
      "id": "c0c9205c-fc63-4826-a380-cd83633cda9f",
      "metadata": {
        "id": "c0c9205c-fc63-4826-a380-cd83633cda9f"
      },
      "source": [
        "___\n",
        "## Data pre-processing"
      ]
    }
  ],
  "metadata": {
    "kernelspec": {
      "display_name": "Python 3 (ipykernel)",
      "language": "python",
      "name": "python3"
    },
    "language_info": {
      "codemirror_mode": {
        "name": "ipython",
        "version": 3
      },
      "file_extension": ".py",
      "mimetype": "text/x-python",
      "name": "python",
      "nbconvert_exporter": "python",
      "pygments_lexer": "ipython3",
      "version": "3.10.8"
    },
    "colab": {
      "provenance": []
    }
  },
  "nbformat": 4,
  "nbformat_minor": 5
}